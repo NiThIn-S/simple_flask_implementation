{
 "cells": [
  {
   "cell_type": "code",
   "execution_count": 3,
   "id": "0ff79de3",
   "metadata": {},
   "outputs": [
    {
     "name": "stdout",
     "output_type": "stream",
     "text": [
      "Request with payload.\n",
      " {'code': 'True', 'message': 'This request had Payload attached to it.'}\n",
      "\n",
      "Request without payload.\n",
      " {'code': 'False', 'message': 'This request had no payload.'}\n"
     ]
    }
   ],
   "source": [
    "import requests\n",
    "\n",
    "r = requests.post('http://127.0.0.1:5000/test', json={\"key\": \"value\"})\n",
    "print(\"Request with payload.\\n\",r.json())\n",
    "\n",
    "r = requests.post('http://127.0.0.1:5000/test', json=None)\n",
    "print(\"\\nRequest without payload.\\n\",r.json())"
   ]
  },
  {
   "cell_type": "code",
   "execution_count": null,
   "id": "30292fed",
   "metadata": {},
   "outputs": [],
   "source": []
  }
 ],
 "metadata": {
  "kernelspec": {
   "display_name": "Python 3",
   "language": "python",
   "name": "python3"
  },
  "language_info": {
   "codemirror_mode": {
    "name": "ipython",
    "version": 3
   },
   "file_extension": ".py",
   "mimetype": "text/x-python",
   "name": "python",
   "nbconvert_exporter": "python",
   "pygments_lexer": "ipython3",
   "version": "3.7.10"
  }
 },
 "nbformat": 4,
 "nbformat_minor": 5
}
