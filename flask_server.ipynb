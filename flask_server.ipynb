{
 "cells": [
  {
   "cell_type": "code",
   "execution_count": 1,
   "id": "825ca5dd",
   "metadata": {
    "scrolled": true
   },
   "outputs": [],
   "source": [
    "# Importing necessary Modules\n",
    "from flask import Flask, request, jsonify, make_response\n",
    "from flask_cors import CORS, cross_origin"
   ]
  },
  {
   "cell_type": "code",
   "execution_count": null,
   "id": "98bf5843",
   "metadata": {},
   "outputs": [],
   "source": [
    "# Set the desired endpoint.\n",
    "endpoint = \"/test\""
   ]
  },
  {
   "cell_type": "code",
   "execution_count": null,
   "id": "d0970348",
   "metadata": {},
   "outputs": [],
   "source": [
    "def resp_msg(code):\n",
    "    \"\"\"\n",
    "    Function to determine the response based the input given.\n",
    "    var 'code' takes Boolean values.\n",
    "    \"\"\"\n",
    "    if bool(code):\n",
    "        # Data to include in response\n",
    "        data = {'message': 'This request had Payload attached to it.', 'code': \"True\"}\n",
    "    else:\n",
    "        # Data to include in response\n",
    "        data = {'message': 'This request had no payload.', 'code': \"False\"}\n",
    "    return make_response(jsonify(data), 201)"
   ]
  },
  {
   "cell_type": "code",
   "execution_count": null,
   "id": "2ec93e52",
   "metadata": {},
   "outputs": [],
   "source": [
    "# Creating a Flask app with CORS policy for satisfying the \\\n",
    "# cross-origin policy that is required by the end browser used.\n",
    "app = Flask(__name__)\n",
    "app.config['CORS_HEADERS'] = 'Content-Type'\n",
    "cors=CORS(app)\n",
    "\n",
    "# Establishing an endpoint to test and processing the request.\n",
    "@app.route(endpoint,methods=[\"GET\",\"POST\"])\n",
    "@cross_origin()\n",
    "def test_res():\n",
    "    \"\"\" \n",
    "    Function is to determine if there is any payload attached to the request.\n",
    "    \"\"\"\n",
    "    try:\n",
    "        # Detecting the payload.\n",
    "        assert(isinstance(request.json,dict))\n",
    "        return resp_msg(code=1)\n",
    "    except:\n",
    "        return resp_msg(code=0)"
   ]
  },
  {
   "cell_type": "code",
   "execution_count": null,
   "id": "05efc31c",
   "metadata": {
    "scrolled": true
   },
   "outputs": [],
   "source": [
    "if __name__ == '__main__':\n",
    "    # Running simple server \n",
    "    #from werkzeug.serving import run_simple\n",
    "    #run_simple('127.0.0.1',5000,app)\n",
    "    \n",
    "    # Running the server \n",
    "    app.run(host='127.0.0.1', port=5000)"
   ]
  },
  {
   "cell_type": "code",
   "execution_count": null,
   "id": "2202415b",
   "metadata": {},
   "outputs": [],
   "source": []
  }
 ],
 "metadata": {
  "kernelspec": {
   "display_name": "Python 3",
   "language": "python",
   "name": "python3"
  },
  "language_info": {
   "codemirror_mode": {
    "name": "ipython",
    "version": 3
   },
   "file_extension": ".py",
   "mimetype": "text/x-python",
   "name": "python",
   "nbconvert_exporter": "python",
   "pygments_lexer": "ipython3",
   "version": "3.7.10"
  }
 },
 "nbformat": 4,
 "nbformat_minor": 5
}
